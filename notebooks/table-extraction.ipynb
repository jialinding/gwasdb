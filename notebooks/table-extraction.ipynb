{
 "cells": [
  {
   "cell_type": "markdown",
   "metadata": {},
   "source": [
    "# Extracting SNP/p-value relations from tables"
   ]
  },
  {
   "cell_type": "markdown",
   "metadata": {},
   "source": [
    "This module parses XML tables and extracts relations between SNPs and the p-values at which they are deemed to be significant."
   ]
  },
  {
   "cell_type": "markdown",
   "metadata": {},
   "source": [
    "## Preparations"
   ]
  },
  {
   "cell_type": "markdown",
   "metadata": {},
   "source": [
    "We start by configuring Jupyter and setting up our environment."
   ]
  },
  {
   "cell_type": "code",
   "execution_count": 1,
   "metadata": {
    "collapsed": false
   },
   "outputs": [],
   "source": [
    "%load_ext autoreload\n",
    "%autoreload 2\n",
    "\n",
    "import sys\n",
    "import cPickle\n",
    "import numpy as np\n",
    "import sqlalchemy\n",
    "\n",
    "# set the paths to snorkel and gwasdb\n",
    "sys.path.append('../snorkel-tables')\n",
    "sys.path.append('../src')\n",
    "sys.path.append('../src/crawler')\n",
    "\n",
    "# set up the directory with the input papers\n",
    "abstract_dir = '../data/db/papers'\n",
    "\n",
    "# set up matplotlib\n",
    "import matplotlib\n",
    "%matplotlib inline\n",
    "matplotlib.rcParams['figure.figsize'] = (12,4)\n",
    "\n",
    "# create a Snorkel session\n",
    "from snorkel import SnorkelSession\n",
    "session = SnorkelSession()"
   ]
  },
  {
   "cell_type": "markdown",
   "metadata": {},
   "source": [
    "### Load corpus"
   ]
  },
  {
   "cell_type": "markdown",
   "metadata": {},
   "source": [
    "We load our usual corpus of GWAS papers."
   ]
  },
  {
   "cell_type": "code",
   "execution_count": 2,
   "metadata": {
    "collapsed": false
   },
   "outputs": [],
   "source": [
    "from snorkel.parser import XMLMultiDocParser\n",
    "from extractor.parser import UnicodeXMLTableDocParser\n",
    "\n",
    "xml_parser = XMLMultiDocParser(\n",
    "    path=abstract_dir,\n",
    "    doc='./*',\n",
    "    text='.//table',\n",
    "    id='.//article-id[@pub-id-type=\"pmid\"]/text()',\n",
    "    keep_xml_tree=True)"
   ]
  },
  {
   "cell_type": "code",
   "execution_count": 3,
   "metadata": {
    "collapsed": false
   },
   "outputs": [
    {
     "name": "stdout",
     "output_type": "stream",
     "text": [
      "Loaded corpus of 589 documents\n"
     ]
    }
   ],
   "source": [
    "from snorkel.parser import CorpusParser, OmniParser\n",
    "from snorkel.models import Corpus\n",
    "\n",
    "# parses tables into rows, cols, cells...\n",
    "table_parser = OmniParser(timeout=1000000)\n",
    "\n",
    "try:\n",
    "    corpus = session.query(Corpus).filter(Corpus.name == 'GWAS Table Corpus').one()\n",
    "except:\n",
    "    cp = CorpusParser(xml_parser, table_parser)\n",
    "    %time corpus = cp.parse_corpus(name='GWAS Table Corpus', session=session)\n",
    "    session.add(corpus)\n",
    "    session.commit()\n",
    "\n",
    "print 'Loaded corpus of %d documents' % len(corpus)"
   ]
  },
  {
   "cell_type": "markdown",
   "metadata": {},
   "source": [
    "## Candidate Extraction"
   ]
  },
  {
   "cell_type": "markdown",
   "metadata": {},
   "source": [
    "### Defining candidate matchers"
   ]
  },
  {
   "cell_type": "markdown",
   "metadata": {},
   "source": [
    "We genereate RSid candidates from all spans that match the following regular expression."
   ]
  },
  {
   "cell_type": "code",
   "execution_count": 4,
   "metadata": {
    "collapsed": true
   },
   "outputs": [],
   "source": [
    "from snorkel.matchers import RegexMatchSpan\n",
    "rsid_matcher = RegexMatchSpan(rgx=r'rs\\d+(/[ATCG]{1,2})*$')"
   ]
  },
  {
   "cell_type": "markdown",
   "metadata": {},
   "source": [
    "Similarly, p-value candidates are all spans that match the following regular expression."
   ]
  },
  {
   "cell_type": "code",
   "execution_count": 5,
   "metadata": {
    "collapsed": false
   },
   "outputs": [],
   "source": [
    "from snorkel.candidates import TableNgrams\n",
    "from snorkel.matchers import RegexMatchSpan, Union\n",
    "\n",
    "# 1: p-value matcher\n",
    "\n",
    "rgx1 = u'[1-9]\\d?[\\xb7\\.]?\\d*[\\s\\u2009]*[\\xd7\\xb7\\*][\\s\\u2009]*10[\\s\\u2009]*[-\\u2212\\u2013\\u2012][\\s\\u2009]*\\d+'\n",
    "pval_rgx_matcher1 = RegexMatchSpan(rgx=rgx1)\n",
    "rgx2 = u'[1-9]\\d?[\\xb7\\.]?\\d*[\\s\\u2009]*[eE][\\s\\u2009]*[-\\u2212\\u2013\\u2012][\\s\\u2009]*\\d+'\n",
    "pval_rgx_matcher2 = RegexMatchSpan(rgx=rgx2)\n",
    "rgx3 = u'0\\.0000+\\d+'\n",
    "pval_rgx_matcher3 = RegexMatchSpan(rgx=rgx3)\n",
    "pval_rgx_matcher = Union(pval_rgx_matcher1, pval_rgx_matcher2, pval_rgx_matcher3)\n",
    "\n",
    "# 2: column-based matcher (currently not used)\n",
    "\n",
    "from snorkel.matchers import CellNameRegexMatcher\n",
    "\n",
    "pval_rgx = 'p\\s?.?\\s?value'\n",
    "pval_rgxname_matcher = CellNameRegexMatcher(axis='col', rgx=pval_rgx, n_max=3, ignore_case=True, header_only=True, max_chars=20)\n",
    "\n",
    "# 3: combine the two\n",
    "\n",
    "pval_matcher = Union(pval_rgx_matcher, pval_rgxname_matcher)"
   ]
  },
  {
   "cell_type": "markdown",
   "metadata": {},
   "source": [
    "## Extract candidate relations between SNPs and p-values"
   ]
  },
  {
   "cell_type": "code",
   "execution_count": 6,
   "metadata": {
    "collapsed": true
   },
   "outputs": [],
   "source": [
    "# create a Snorkel class for the relation we will extract\n",
    "from snorkel.models import candidate_subclass\n",
    "RsidPhenRel = candidate_subclass('RsidPvalRel', ['rsid','pval'])\n",
    "\n",
    "# define our candidate spaces\n",
    "from snorkel.candidates import TableNgrams\n",
    "unigrams = TableNgrams(n_max=1)\n",
    "heptagrams = TableNgrams(n_max=7)\n",
    "\n",
    "# we will be looking only at aligned cells\n",
    "from snorkel.throttlers import AlignmentThrottler\n",
    "row_align_filter = AlignmentThrottler(axis='row', infer=False)\n",
    "\n",
    "# the first extractor looks at phenotype names in columns with a header indicating it's a phenotype\n",
    "from snorkel.candidates import CandidateExtractor\n",
    "ce = CandidateExtractor(RsidPhenRel, [unigrams, heptagrams], [rsid_matcher, pval_rgx_matcher], throttler=row_align_filter)\n",
    "\n",
    "# collect that cells that will be searched for candidates\n",
    "tables = [table for doc in corpus.documents for table in doc.tables]"
   ]
  },
  {
   "cell_type": "code",
   "execution_count": 7,
   "metadata": {
    "collapsed": false
   },
   "outputs": [
    {
     "name": "stdout",
     "output_type": "stream",
     "text": [
      "[========================================] 100%\n",
      "CPU times: user 5min 55s, sys: 1min 13s, total: 7min 9s\n",
      "Wall time: 8min 43s\n",
      "22572 relations extracted, e.g.\n",
      "RsidPvalRel(Span(\"rs2517646\", parent=416004, chars=[0,8], words=[0,0]), Span(\"1.95E-11\", parent=416012, chars=[0,7], words=[0,0]))\n",
      "RsidPvalRel(Span(\"rs12722489\", parent=416148, chars=[0,9], words=[0,0]), Span(\"2.16E-07\", parent=416156, chars=[0,7], words=[0,0]))\n",
      "RsidPvalRel(Span(\"rs3132671\", parent=416052, chars=[0,8], words=[0,0]), Span(\"3.78E-09\", parent=416060, chars=[0,7], words=[0,0]))\n",
      "RsidPvalRel(Span(\"rs757262\", parent=416136, chars=[0,7], words=[0,0]), Span(\"1.75E-07\", parent=416144, chars=[0,7], words=[0,0]))\n",
      "RsidPvalRel(Span(\"rs2857439\", parent=416028, chars=[0,8], words=[0,0]), Span(\"1.86E-10\", parent=416036, chars=[0,7], words=[0,0]))\n",
      "RsidPvalRel(Span(\"rs1736916\", parent=416112, chars=[0,8], words=[0,0]), Span(\"1.22E-07\", parent=416120, chars=[0,7], words=[0,0]))\n",
      "RsidPvalRel(Span(\"rs3905495\", parent=416100, chars=[0,8], words=[0,0]), Span(\"4.76E-08\", parent=416108, chars=[0,7], words=[0,0]))\n",
      "RsidPvalRel(Span(\"rs2647046\", parent=415968, chars=[0,8], words=[0,0]), Span(\"1.43E-17\", parent=415976, chars=[0,7], words=[0,0]))\n",
      "RsidPvalRel(Span(\"rs16896944\", parent=416040, chars=[0,9], words=[0,0]), Span(\"2.64E-09\", parent=416048, chars=[0,7], words=[0,0]))\n",
      "RsidPvalRel(Span(\"rs9261491\", parent=416016, chars=[0,8], words=[0,0]), Span(\"1.44E-10\", parent=416024, chars=[0,7], words=[0,0]))\n"
     ]
    }
   ],
   "source": [
    "%time rels = ce.extract(tables, 'RsidPvalRel Relations', session)\n",
    "print \"%s relations extracted, e.g.\" % len(rels)\n",
    "for cand in rels[:10]:\n",
    "    print cand"
   ]
  },
  {
   "cell_type": "code",
   "execution_count": 13,
   "metadata": {
    "collapsed": false
   },
   "outputs": [
    {
     "name": "stdout",
     "output_type": "stream",
     "text": [
      "RsidPvalRel(Span(\"rs10487920\", parent=308138, chars=[0,9], words=[0,0]), Span(\"3.9 × 10 -4\", parent=308142, chars=[0,10], words=[0,3]))\n",
      "RsidPvalRel(Span(\"rs1924587\", parent=308149, chars=[0,8], words=[0,0]), Span(\"4.6 × 10 -4\", parent=308153, chars=[0,10], words=[0,3]))\n",
      "RsidPvalRel(Span(\"rs6479347\", parent=308144, chars=[0,8], words=[0,0]), Span(\"4.5 × 10 -4\", parent=308148, chars=[0,10], words=[0,3]))\n",
      "RsidPvalRel(Span(\"rs2059273\", parent=308155, chars=[0,8], words=[0,0]), Span(\"4.9 × 10 -4\", parent=308159, chars=[0,10], words=[0,3]))\n",
      "RsidPvalRel(Span(\"rs2822669\", parent=308161, chars=[0,8], words=[0,0]), Span(\"5.7 × 10 -4\", parent=308165, chars=[0,10], words=[0,3]))\n",
      "RsidPvalRel(Span(\"rs9325782\", parent=308297, chars=[0,8], words=[0,0]), Span(\"8.2 × 10 -4\", parent=308300, chars=[0,10], words=[0,3]))\n",
      "RsidPvalRel(Span(\"rs905883\", parent=308276, chars=[0,7], words=[0,0]), Span(\"2.0 × 10 -4\", parent=308279, chars=[0,10], words=[0,3]))\n",
      "RsidPvalRel(Span(\"rs7001069\", parent=308315, chars=[0,8], words=[0,0]), Span(\"3.0 × 10 -5\", parent=308319, chars=[0,10], words=[0,3]))\n",
      "RsidPvalRel(Span(\"rs10505483\", parent=308321, chars=[0,9], words=[0,0]), Span(\"4.0 × 10 -5\", parent=308325, chars=[0,10], words=[0,3]))\n",
      "RsidPvalRel(Span(\"rs3751832\", parent=308558, chars=[0,8], words=[0,0]), Span(\"9.3 × 10 -4\", parent=308565, chars=[0,10], words=[0,3]))\n",
      "RsidPvalRel(Span(\"rs4782742\", parent=308425, chars=[0,8], words=[0,0]), Span(\"7.1 × 10 -4\", parent=308432, chars=[0,10], words=[0,3]))\n",
      "RsidPvalRel(Span(\"rs10486031\", parent=308486, chars=[0,9], words=[0,0]), Span(\"1.7 × 10 -5\", parent=308488, chars=[0,10], words=[0,3]))\n",
      "RsidPvalRel(Span(\"rs10520247\", parent=308497, chars=[0,9], words=[0,0]), Span(\"2.8 × 10 -5\", parent=308499, chars=[0,10], words=[0,3]))\n",
      "RsidPvalRel(Span(\"rs10256504\", parent=308403, chars=[0,9], words=[0,0]), Span(\"1.8 × 10 -4\", parent=308410, chars=[0,10], words=[0,3]))\n",
      "RsidPvalRel(Span(\"rs10520880\", parent=308519, chars=[0,9], words=[0,0]), Span(\"8.5 × 10 -5\", parent=308521, chars=[0,10], words=[0,3]))\n",
      "RsidPvalRel(Span(\"rs7989050\", parent=308541, chars=[0,8], words=[0,0]), Span(\"6.0 × 10 -6\", parent=308543, chars=[0,10], words=[0,3]))\n",
      "RsidPvalRel(Span(\"rs10513681\", parent=308530, chars=[0,9], words=[0,0]), Span(\"7.8 × 10 -7\", parent=308532, chars=[0,10], words=[0,3]))\n",
      "RsidPvalRel(Span(\"rs6577648\", parent=308447, chars=[0,8], words=[0,0]), Span(\"4.9 × 10 -4\", parent=308454, chars=[0,10], words=[0,3]))\n",
      "RsidPvalRel(Span(\"rs10487577\", parent=308552, chars=[0,9], words=[0,0]), Span(\"2.0 × 10 -7\", parent=308554, chars=[0,10], words=[0,3]))\n",
      "RsidPvalRel(Span(\"rs10514443\", parent=308563, chars=[0,9], words=[0,0]), Span(\"9.3 × 10 -4\", parent=308565, chars=[0,10], words=[0,3]))\n",
      "RsidPvalRel(Span(\"rs216666\", parent=308503, chars=[0,7], words=[0,0]), Span(\"1.5 × 10 -4\", parent=308510, chars=[0,10], words=[0,3]))\n",
      "RsidPvalRel(Span(\"rs10520246\", parent=308508, chars=[0,9], words=[0,0]), Span(\"1.5 × 10 -4\", parent=308510, chars=[0,10], words=[0,3]))\n",
      "RsidPvalRel(Span(\"rs38276\", parent=308481, chars=[0,6], words=[0,0]), Span(\"1.7 × 10 -5\", parent=308488, chars=[0,10], words=[0,3]))\n",
      "RsidPvalRel(Span(\"rs216666\", parent=308492, chars=[0,7], words=[0,0]), Span(\"2.8 × 10 -5\", parent=308499, chars=[0,10], words=[0,3]))\n",
      "RsidPvalRel(Span(\"rs4418248\", parent=308408, chars=[0,8], words=[0,0]), Span(\"1.8 × 10 -4\", parent=308410, chars=[0,10], words=[0,3]))\n",
      "RsidPvalRel(Span(\"rs254315\", parent=308430, chars=[0,7], words=[0,0]), Span(\"7.1 × 10 -4\", parent=308432, chars=[0,10], words=[0,3]))\n",
      "RsidPvalRel(Span(\"rs1261256\", parent=308514, chars=[0,8], words=[0,0]), Span(\"8.5 × 10 -5\", parent=308521, chars=[0,10], words=[0,3]))\n",
      "RsidPvalRel(Span(\"rs7610584\", parent=308525, chars=[0,8], words=[0,0]), Span(\"7.8 × 10 -7\", parent=308532, chars=[0,10], words=[0,3]))\n",
      "RsidPvalRel(Span(\"rs7329659\", parent=308536, chars=[0,8], words=[0,0]), Span(\"6.0 × 10 -6\", parent=308543, chars=[0,10], words=[0,3]))\n",
      "RsidPvalRel(Span(\"rs10505624\", parent=308452, chars=[0,9], words=[0,0]), Span(\"4.9 × 10 -4\", parent=308454, chars=[0,10], words=[0,3]))\n",
      "RsidPvalRel(Span(\"rs208354\", parent=308547, chars=[0,7], words=[0,0]), Span(\"2.0 × 10 -7\", parent=308554, chars=[0,10], words=[0,3]))\n"
     ]
    }
   ],
   "source": [
    "for r in rels:\n",
    "    if r[0].parent.document.name == '17903305':\n",
    "#     if r[0].parent.document.name == '25133637':\n",
    "        print unicode(r)"
   ]
  },
  {
   "cell_type": "code",
   "execution_count": 67,
   "metadata": {
    "collapsed": false
   },
   "outputs": [],
   "source": [
    "from snorkel.candidates import AlignedTableRelationExtractor\n",
    "# Relation Extractor:\n",
    "relation_extractor = AlignedTableRelationExtractor(rsid_extractor, pval_rgx_extractor, axis='row')"
   ]
  },
  {
   "cell_type": "code",
   "execution_count": 68,
   "metadata": {
    "collapsed": false
   },
   "outputs": [
    {
     "name": "stdout",
     "output_type": "stream",
     "text": [
      "CPU times: user 8min 13s, sys: 7min 49s, total: 16min 3s\n",
      "Wall time: 49min 45s\n",
      "SpanPair(Span(\"rs2076756\", context=None, chars=[0,8], words=[0,0]), Span(\"1.93E-13\", context=None, chars=[0,7], words=[0,0]))\n",
      "SpanPair(Span(\"rs2076756\", context=None, chars=[0,8], words=[0,0]), Span(\"2.04E-12\", context=None, chars=[0,7], words=[0,0]))\n",
      "SpanPair(Span(\"rs2076756\", context=None, chars=[0,8], words=[0,0]), Span(\"6.80E-20\", context=None, chars=[0,7], words=[0,0]))\n",
      "SpanPair(Span(\"rs2076756\", context=None, chars=[0,8], words=[0,0]), Span(\"1.39E-21\", context=None, chars=[0,7], words=[0,0]))\n",
      "SpanPair(Span(\"rs2076756\", context=None, chars=[0,8], words=[0,0]), Span(\"5.90E-08\", context=None, chars=[0,7], words=[0,0]))\n",
      "SpanPair(Span(\"rs1992662\", context=None, chars=[0,8], words=[0,0]), Span(\"7.59E-05\", context=None, chars=[0,7], words=[0,0]))\n",
      "SpanPair(Span(\"rs1992660\", context=None, chars=[0,8], words=[0,0]), Span(\"4.53E-05\", context=None, chars=[0,7], words=[0,0]))\n",
      "SpanPair(Span(\"rs10521209\", context=None, chars=[0,9], words=[0,0]), Span(\"8.65E-05\", context=None, chars=[0,7], words=[0,0]))\n",
      "SpanPair(Span(\"rs10521209\", context=None, chars=[0,9], words=[0,0]), Span(\"8.68E-05\", context=None, chars=[0,7], words=[0,0]))\n",
      "SpanPair(Span(\"rs1553575\", context=None, chars=[0,8], words=[0,0]), Span(\"1.68E-06\", context=None, chars=[0,7], words=[0,0]))\n",
      "22077 relations extracted\n"
     ]
    }
   ],
   "source": [
    "%time candidates = relation_extractor.extract(corpus.get_tables(), name='all')\n",
    "\n",
    "for cand in candidates[:10]: \n",
    "    print cand\n",
    "print \"%s relations extracted\" % len(candidates)"
   ]
  },
  {
   "cell_type": "markdown",
   "metadata": {},
   "source": [
    "Filter nested p-value estimates e.g. 1.2\\*10^-7 and 2*10^-7"
   ]
  },
  {
   "cell_type": "code",
   "execution_count": 27,
   "metadata": {
    "collapsed": false
   },
   "outputs": [
    {
     "name": "stdout",
     "output_type": "stream",
     "text": [
      "1246 1246\n"
     ]
    }
   ],
   "source": [
    "# load existing candidates into a dict\n",
    "span_dict = { str(span.context.cell) : list() for span in pval_c }\n",
    "for span in pval_c:\n",
    "    span_dict[str(span.context.cell)].append( (span.char_start, span.char_end) )\n",
    "\n",
    "def nested(ivl1, ivl2):\n",
    "    if ivl1 != ivl2 and ivl2[0] <= ivl1[0] <= ivl1[1] <= ivl2[1]:\n",
    "        return True\n",
    "    else:\n",
    "        return False\n",
    "\n",
    "new_pval_c = list()\n",
    "for span in pval_c:\n",
    "    span_ivl = span.char_start, span.char_end\n",
    "    span_name = str(span.context.cell)\n",
    "    if all([not nested(span_ivl, other_ivl) for other_ivl in span_dict[span_name]]):\n",
    "        new_pval_c.append(span)\n",
    "#     else:\n",
    "#         print span_ivl, span_dict[span_name]\n",
    "#         print unicode(span)\n",
    "#         print unicode(span.context.cell.text)\n",
    "#         print span.uid\n",
    "#         print span.context.row_num, span.context.col_num\n",
    "#         print unicode(span)\n",
    "#         print\n",
    "#         print [(cell, cell.row_num, cell.col_num) for cell in span.context.table.cells]\n",
    "#         break\n",
    "\n",
    "print len(new_pval_c), len(pval_c)\n",
    "pval_c = new_pval_c"
   ]
  },
  {
   "cell_type": "code",
   "execution_count": 28,
   "metadata": {
    "collapsed": false
   },
   "outputs": [
    {
     "name": "stdout",
     "output_type": "stream",
     "text": [
      "63\n",
      "63\n"
     ]
    }
   ],
   "source": [
    "print candidates[1000].span0.context.cell.row_num\n",
    "print candidates[1000].span1.context.cell.row_num"
   ]
  },
  {
   "cell_type": "markdown",
   "metadata": {},
   "source": [
    "#### Save this for now"
   ]
  },
  {
   "cell_type": "code",
   "execution_count": 12,
   "metadata": {
    "collapsed": false
   },
   "outputs": [],
   "source": [
    "import re\n",
    "from extractor.util import pvalue_to_float\n",
    "\n",
    "def clean_rsid(rsid):\n",
    "    return re.sub('/.+', '', rsid)\n",
    "\n",
    "# NOTE: THIS IS ON UNPROCESSED RELS\n",
    "with open('pval-rsid.raw.cols.tsv', 'w') as f:\n",
    "    for rel in rels:\n",
    "        pmid = rel[0].parent.document.name\n",
    "        table_id = rel[0].parent.table.position\n",
    "        row_id = rel[0].parent.cell.row.position\n",
    "        col_id = rel[0].parent.cell.col.position\n",
    "        rsid = rel[0].get_span()\n",
    "        pval = pvalue_to_float(rel[1].get_span())\n",
    "        \n",
    "        try:\n",
    "            out_str = '%s\\t%s\\t%d\\t%d\\t%d\\t%f\\n' % (pmid, clean_rsid(rsid), table_id, row_id, col_id, pval)\n",
    "        except:\n",
    "            print pmid, clean_rsid(rsid), table_id, row_id, col_id, pval\n",
    "        f.write(out_str)"
   ]
  },
  {
   "cell_type": "markdown",
   "metadata": {},
   "source": [
    "## Extracting singleton relations"
   ]
  },
  {
   "cell_type": "code",
   "execution_count": 40,
   "metadata": {
    "collapsed": false
   },
   "outputs": [],
   "source": [
    "# store candidates that occur in sufficiently large tables:\n",
    "rsid_by_table = dict()\n",
    "for cand in rs_candidates:\n",
    "    rsid = cand.get_span()\n",
    "    key = cand.context.document.name, cand.context.table.position\n",
    "    if key not in rsid_by_table: rsid_by_table[key] = set()\n",
    "    rsid_by_table[key].add((rsid, cand.context.cell.row_num, cand.context.cell.col_num))\n",
    "    \n",
    "with open('rsids.singletons.all.tsv', 'w') as f:\n",
    "    for (pmid, table_id), rsids in rsid_by_table.items():\n",
    "        if len(rsids) < 10: continue\n",
    "        for rsid, row_num, col_num in rsids:\n",
    "            f.write('%s\\t%s\\t%s\\t%s\\t%s\\n' % (pmid, table_id, row_num, col_num, rsid))"
   ]
  },
  {
   "cell_type": "code",
   "execution_count": 28,
   "metadata": {
    "collapsed": false
   },
   "outputs": [
    {
     "name": "stdout",
     "output_type": "stream",
     "text": [
      "set([u'rs6577648', u'rs254315', u'rs10520880', u'rs38276', u'rs986831', u'rs10520246', u'rs7610584', u'rs3751832', u'rs3794889', u'rs10492797', u'rs9327886', u'rs10505624', u'rs208354', u'rs4418248', u'rs10514443', u'rs10486031', u'rs10513681', u'rs216666', u'rs10515347', u'rs10487577', u'rs2253319', u'rs7989050', u'rs4801149', u'rs10512920', u'rs3017183', u'rs2371438', u'rs6555491', u'rs10520247', u'rs10256504', u'rs7329659', u'rs392715', u'rs2834645', u'rs10497958', u'rs1261256', u'rs6102912', u'rs4782742'])\n"
     ]
    }
   ],
   "source": [
    "print rsid_by_table[('17903305', 4)]"
   ]
  },
  {
   "cell_type": "code",
   "execution_count": 17,
   "metadata": {
    "collapsed": false
   },
   "outputs": [],
   "source": [
    "# TODO: use this to filter singletons initially\n",
    "import re\n",
    "pval_rgx = 'p\\s?.?\\s?value'\n",
    "lod_rgx = 'LOD'\n",
    "\n",
    "with open('table-annotations.tsv', 'w') as f:\n",
    "    for doc in corpus.documents:\n",
    "        for table in doc.tables:\n",
    "            lod_found = 0\n",
    "            pval_found = 0\n",
    "            for cell in table.cells:\n",
    "                if not pval_found and len(cell.text) < 30 and (re.search(pval_rgx, cell.text, re.IGNORECASE) or cell.text.lower() == 'p'):\n",
    "                    pval_found = 1\n",
    "                if not lod_found and re.search(lod_rgx, cell.text):\n",
    "                    lod_found = 1\n",
    "                if pval_found and lod_found: break\n",
    "                    \n",
    "            out_str = '%s\\t%s\\t%s\\t%s\\n' % (doc.name, table.position, pval_found, lod_found)\n",
    "            f.write(out_str) "
   ]
  },
  {
   "cell_type": "markdown",
   "metadata": {},
   "source": [
    "## Filtering relations"
   ]
  },
  {
   "cell_type": "code",
   "execution_count": 12,
   "metadata": {
    "collapsed": false
   },
   "outputs": [
    {
     "name": "stdout",
     "output_type": "stream",
     "text": [
      "22102 19848\n"
     ]
    }
   ],
   "source": [
    "rels = []\n",
    "loc2rsid = dict()\n",
    "with open('results/pval-rsid.raw.cols.tsv') as f:\n",
    "    for line in f:\n",
    "        pmid, rsid, table_id, row_id, col_id, pval = line.strip().split('\\t')\n",
    "        loc = pmid, table_id, row_id\n",
    "        rels.append((pmid, rsid, table_id, row_id, col_id, pval))\n",
    "        if loc not in loc2rsid: loc2rsid[loc] = set()\n",
    "        loc2rsid[loc].add(rsid)\n",
    "\n",
    "n = 0\n",
    "with open('results/pval-rsid.raw.cols.filtered.tsv', 'w') as f:\n",
    "    for rel in rels:\n",
    "        pmid, rsid, table_id, row_id, col_id, pval = rel\n",
    "        loc = pmid, table_id, row_id\n",
    "        if len(loc2rsid[loc]) > 1: continue\n",
    "        \n",
    "        out_str = '%s\\t%s\\t%s\\t%s\\t%s\\t%s\\n' % (pmid, rsid, table_id, row_id, col_id, pval)\n",
    "        f.write(out_str)\n",
    "        n += 1\n",
    "        \n",
    "print len(rels), n"
   ]
  },
  {
   "cell_type": "code",
   "execution_count": 7,
   "metadata": {
    "collapsed": false
   },
   "outputs": [
    {
     "data": {
      "text/plain": [
       "[(('23704328', 'rs9316505', '0', '10'), {'rs9316505'}),\n",
       " (('21658281', 'rs2281680', '1', '9'), {'rs2281680'}),\n",
       " (('24709693', 'rs73185595', '2', '11'), {'rs73185595'}),\n",
       " (('22001756', 'rs75372', '0', '15'), {'rs75372'}),\n",
       " (('25340798', 'rs495366', '2', '17'), {'rs495366'}),\n",
       " (('19081515', 'rs6794719', '0', '5'), {'rs6794719'}),\n",
       " (('22666496', 'rs7521242', '2', '46'), {'rs7521242'}),\n",
       " (('22511988', 'rs887829', '1', '8'), {'rs887829'}),\n",
       " (('19801982', 'rs11898505', '0', '16'), {'rs11898505'}),\n",
       " (('25233373', 'rs9365619', '1', '12'), {'rs9365619'})]"
      ]
     },
     "execution_count": 7,
     "metadata": {},
     "output_type": "execute_result"
    }
   ],
   "source": [
    "(loc2rsid.items()[:10])"
   ]
  },
  {
   "cell_type": "code",
   "execution_count": null,
   "metadata": {
    "collapsed": true
   },
   "outputs": [],
   "source": []
  }
 ],
 "metadata": {
  "kernelspec": {
   "display_name": "Python 2",
   "language": "python",
   "name": "python2"
  },
  "language_info": {
   "codemirror_mode": {
    "name": "ipython",
    "version": 2
   },
   "file_extension": ".py",
   "mimetype": "text/x-python",
   "name": "python",
   "nbconvert_exporter": "python",
   "pygments_lexer": "ipython2",
   "version": "2.7.2"
  }
 },
 "nbformat": 4,
 "nbformat_minor": 0
}
